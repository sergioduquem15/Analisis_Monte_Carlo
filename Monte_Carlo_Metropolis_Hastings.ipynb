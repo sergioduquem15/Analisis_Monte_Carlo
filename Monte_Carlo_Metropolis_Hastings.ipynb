{
  "nbformat": 4,
  "nbformat_minor": 0,
  "metadata": {
    "colab": {
      "name": "Monte_Carlo_Metropolis-Hastings.ipynb",
      "provenance": [],
      "collapsed_sections": []
    },
    "kernelspec": {
      "name": "python3",
      "display_name": "Python 3"
    },
    "accelerator": "GPU"
  },
  "cells": [
    {
      "cell_type": "markdown",
      "metadata": {
        "id": "731bZhN1qFKo",
        "colab_type": "text"
      },
      "source": [
        "Realizado por: Sergio Duque Mejía"
      ]
    },
    {
      "cell_type": "markdown",
      "metadata": {
        "id": "FBqRRkTeCuQd",
        "colab_type": "text"
      },
      "source": [
        "## $Algoritmo$ $de$ $Metropolis$\n",
        "Los eventos creados son los estados $\\phi$. \n",
        "\n",
        "1. Se lanza un estado inicial $\\phi_{0}$.\n",
        "2. Generamos aleatoriamente otro vector de estado $\\phi^{'}$\n",
        "3. Se calcula: $\\Delta S = -ln \\left \\{ \\frac{P(\\phi^{'})}{P(\\phi_{0})} \\right \\}=-ln \\{ \\alpha \\}$.\n",
        "4. Si $\\Delta S < 0$ entonces $\\phi^{'} = \\phi_{1}$.\n",
        "5. Si $\\Delta S > 0$ entonces sea $r\\equiv numero$ $aleatorio$ que se compara con con $\\alpha$ es decir: \n",
        "  1. Si $\\alpha > r$ entonces $\\phi^{'}=\\phi_{1}$\n",
        "  2. Si no ocurre lo anterior, se descarta $\\phi^{'}$.\n",
        "6. Se repite el proceso, vuelve a $\\phi_{2}$ y se genera otro vector aleatorio $\\phi^{'}$\n",
        "\n",
        "Si se repite N veces, se genera N+1 (si se acepta todos) veces $\\phi$'s, estos datos son la nueva muestra. Este algoritmo sirve para ver si los datos del experimento se ajustan adecuadamente a la PDF. \n",
        "\n"
      ]
    },
    {
      "cell_type": "code",
      "metadata": {
        "id": "Wt8DJv0uA0r5",
        "colab_type": "code",
        "colab": {}
      },
      "source": [
        "import numpy as np\n",
        "import matplotlib.pyplot as plt\n",
        "from scipy.integrate import quad\n",
        "from sklearn.metrics import mean_squared_error"
      ],
      "execution_count": 2,
      "outputs": []
    },
    {
      "cell_type": "code",
      "metadata": {
        "id": "r1ySn1UrBQ1p",
        "colab_type": "code",
        "colab": {}
      },
      "source": [
        "!apt-get install git dpkg-dev cmake g++ gcc binutils libx11-dev libxpm-dev libxft-dev libxext-dev tar gfortran subversion"
      ],
      "execution_count": null,
      "outputs": []
    },
    {
      "cell_type": "code",
      "metadata": {
        "id": "7wXmHmp0BSsX",
        "colab_type": "code",
        "colab": {}
      },
      "source": [
        "# Load the Drive helper and mount\n",
        "from google.colab import drive\n",
        "\n",
        "# This will prompt for authorization.\n",
        "drive.mount('/content/drive')"
      ],
      "execution_count": null,
      "outputs": []
    },
    {
      "cell_type": "code",
      "metadata": {
        "id": "FP2s7iQBBfPb",
        "colab_type": "code",
        "colab": {}
      },
      "source": [
        "!ls drive/'My Drive'/Montecarlo/"
      ],
      "execution_count": null,
      "outputs": []
    },
    {
      "cell_type": "code",
      "metadata": {
        "id": "8wErk_QXBz0-",
        "colab_type": "code",
        "colab": {}
      },
      "source": [
        "!tar -xf drive/\"My Drive\"/Montecarlo/root_build_google_yikes.tar"
      ],
      "execution_count": null,
      "outputs": []
    },
    {
      "cell_type": "code",
      "metadata": {
        "id": "Sanef9xpCRHv",
        "colab_type": "code",
        "colab": {}
      },
      "source": [
        "!ls -ltrh root_build/"
      ],
      "execution_count": null,
      "outputs": []
    },
    {
      "cell_type": "code",
      "metadata": {
        "id": "rNwJm3fJD8FL",
        "colab_type": "code",
        "colab": {}
      },
      "source": [
        "import sys\n",
        "sys.path.append(\"/content/root_build/\")\n",
        "sys.path.append(\"/content/root_build/bin/\")\n",
        "sys.path.append(\"/content/root_build/include/\")\n",
        "sys.path.append(\"/content/root_build/lib/\")"
      ],
      "execution_count": null,
      "outputs": []
    },
    {
      "cell_type": "code",
      "metadata": {
        "id": "gecsX6KsEI0o",
        "colab_type": "code",
        "colab": {}
      },
      "source": [
        "import ROOT"
      ],
      "execution_count": null,
      "outputs": []
    },
    {
      "cell_type": "code",
      "metadata": {
        "id": "Vd_3Af-uEaXz",
        "colab_type": "code",
        "colab": {}
      },
      "source": [
        "DataChain=ROOT.TChain(\"SystemTree\")\n",
        "DataChain.Add(\"/content/drive/My Drive/Montecarlo/SergioDuque.root\")\n",
        "NumberOfEventsToCheck=DataChain.GetEntries()\n",
        "print(\"We are going to analyze \",NumberOfEventsToCheck, \" events\")"
      ],
      "execution_count": null,
      "outputs": []
    },
    {
      "cell_type": "code",
      "metadata": {
        "id": "WoDGsogL7H72",
        "colab_type": "code",
        "colab": {}
      },
      "source": [
        "State = ROOT.TH1F( 'State', \"Montecarlo's System\", 200, 100, 400 )\n",
        "Old_events = []\n",
        "for entry in DataChain:\n",
        "  Old_events.append(entry.x)\n",
        "\n",
        "for i in range(len(Old_events)):\n",
        "  State.Fill(Old_events[i])"
      ],
      "execution_count": null,
      "outputs": []
    },
    {
      "cell_type": "code",
      "metadata": {
        "id": "jeqfK2luNY80",
        "colab_type": "code",
        "colab": {}
      },
      "source": [
        "Bg = ROOT.TCanvas( 'Bg', 'Background' )\n",
        "Bg.SetFillColor( 40 )\n",
        "\n",
        "State.SetFillColor( 45 )\n",
        "State.Draw()\n",
        "\n",
        "Bg.Update()\n",
        "\n",
        "ROOT.gROOT.GetFunction(\"State\")\n",
        "ROOT.gROOT.GetListOfCanvases().Draw()"
      ],
      "execution_count": null,
      "outputs": []
    },
    {
      "cell_type": "code",
      "metadata": {
        "id": "OksWghDLQuYw",
        "colab_type": "code",
        "colab": {}
      },
      "source": [
        "# Funcion de distribucion de Landau\n",
        "def ft(t,x,mu,c):\n",
        "  return np.exp(-t) * np.cos((t*((x-mu)/c))+((2*t/np.pi)*np.log(t/c)))/(np.pi*c)\n",
        "\n",
        "def Pdf_landau(x,mu,c):\n",
        "  return quad(ft, 0, np.inf, args=(x, mu, c))[0]\n",
        "\n",
        "# Algoritmo de Metropolis-Hastings\n",
        "def Metropolis(lim,pdf,N,phi_0,mu,c):\n",
        "  sample = [phi_0]\n",
        "  i = 0\n",
        "  while len(sample) < N:\n",
        "    phi_prime =  np.random.uniform(low = lim[0],high = lim[1])\n",
        "    Delta_S = -np.log(pdf(phi_prime,mu,c)/pdf(sample[0],mu,c))\n",
        "    if Delta_S < 0:\n",
        "      sample.append(phi_prime)\n",
        "    elif Delta_S > 0:\n",
        "      r = np.random.random()\n",
        "      alpha = pdf(phi_prime,mu,c)/pdf(sample[0],mu,c)\n",
        "      if r < alpha: \n",
        "        sample.append(phi_prime)\n",
        "      elif r > alpha: \n",
        "        pass\n",
        "  return sample"
      ],
      "execution_count": null,
      "outputs": []
    },
    {
      "cell_type": "markdown",
      "metadata": {
        "id": "479vVgbtlDLf",
        "colab_type": "text"
      },
      "source": [
        "### $Prueba$\n",
        "Se verifica el algoritmo de Metropolis-Hastings para una pdf Landau con mu=0, c=1 en el intervalo de (-1,1)"
      ]
    },
    {
      "cell_type": "code",
      "metadata": {
        "id": "t7XBClARGgjW",
        "colab_type": "code",
        "colab": {}
      },
      "source": [
        "#Genero Datos de prueba de la pdf Landau con mu=0 y c=1 definiendo un x entre (-1,1)\n",
        "prueba = []\n",
        "xdt = np.linspace(-1,1,100)\n",
        "x_v = []\n",
        "for i in xdt:\n",
        "  a = Pdf_landau(i,0,0.1)\n",
        "  prueba.append(a)\n",
        "  x_v.append(i)"
      ],
      "execution_count": null,
      "outputs": []
    },
    {
      "cell_type": "code",
      "metadata": {
        "id": "DO7ztCGePwv3",
        "colab_type": "code",
        "colab": {}
      },
      "source": [
        "metric = Metropolis([-1,1],Pdf_landau,1000,-0.2,0,0.1)\n",
        "plt.plot(x_v,prueba)\n",
        "plt.hist(metric,30,density=True, facecolor='blue', alpha=0.2)\n",
        "plt.grid()\n",
        "plt.show()"
      ],
      "execution_count": null,
      "outputs": []
    },
    {
      "cell_type": "markdown",
      "metadata": {
        "id": "5w9P5rympQOQ",
        "colab_type": "text"
      },
      "source": [
        "### $Generando$ $las$ $muestras$ $y$ $graficas$"
      ]
    },
    {
      "cell_type": "code",
      "metadata": {
        "id": "L5FSLKpYM0l3",
        "colab_type": "code",
        "colab": {}
      },
      "source": [
        "# Extraccion de los datos experimentales de ROOT a un histograma de Matplotlib\n",
        "exp_d = np.array(Old_events)\n",
        "hist_exp = plt.hist(exp_d , 100,density=True, facecolor='blue', alpha=0.5,range=(50,800))\n",
        "plt.grid()\n",
        "plt.title('Histograma del experimento')\n",
        "plt.show()"
      ],
      "execution_count": null,
      "outputs": []
    },
    {
      "cell_type": "code",
      "metadata": {
        "id": "ITwWem7wrxs5",
        "colab_type": "code",
        "colab": {}
      },
      "source": [
        "# Funcion de Minimizacion de Chi cuadrado para dos parametros, integrado el algoritmo de metropolis\n",
        "def Chisquare(a,b):\n",
        "    for i in a:\n",
        "        for j in b:\n",
        "          hist_sample = np.array(Metropolis([50,800],Pdf_landau,200,float(i),i,j))\n",
        "          hist = np.histogram(hist_sample,normed=True,bins=200,range=(50,800))\n",
        "          chi_square = mean_squared_error(hist_exp,hist)\n",
        "          if i == a[0] and j == b[0]:\n",
        "            parametros = [i,j]\n",
        "            chi = chi_square\n",
        "          elif chi > chi_square:\n",
        "            parametros = [i,j]\n",
        "            chi = chi_square\n",
        "    return chi,parametros"
      ],
      "execution_count": null,
      "outputs": []
    },
    {
      "cell_type": "code",
      "metadata": {
        "id": "BLpeBuwIwz4a",
        "colab_type": "code",
        "colab": {}
      },
      "source": [
        "# Obtencion de Parametros y valor de Chi cuadrado\n",
        "a = np.arange(100,150,3)\n",
        "b = np.arange(10,20,3)\n",
        "\n",
        "chi,parametros = Chisquare(a,b)\n",
        "print(parametros)\n",
        "print(chi)"
      ],
      "execution_count": null,
      "outputs": []
    },
    {
      "cell_type": "code",
      "metadata": {
        "id": "BLOBMWRS_dOG",
        "colab_type": "code",
        "colab": {}
      },
      "source": [
        "# Grafica de resultados usando los parametros encontrados\n",
        "metr = Metropolis([50,800],Pdf_landau,1000,130,130,10)\n",
        "with plt.style.context('Solarize_Light2'):\n",
        "  plt.hist(exp_d, 200,density=True, color=\"blue\", histtype='step', alpha=1,range=(50,800),label=\"Experimentales\")\n",
        "  plt.hist(np.array(metr), 50,density =True, facecolor='green', alpha=0.5, label=\"Generados por M.H\")\n",
        "  plt.legend()\n",
        "  plt.show()"
      ],
      "execution_count": null,
      "outputs": []
    },
    {
      "cell_type": "code",
      "metadata": {
        "id": "9KdZ8N0GqZwI",
        "colab_type": "code",
        "colab": {}
      },
      "source": [
        "# Analisis de c: \n",
        "rango = [5,10,20,35]\n",
        "with plt.style.context('Solarize_Light2'):\n",
        "    plt.hist(exp_d, 200,density=True, color=\"blue\", histtype='step', alpha=1,range=(50,800),label=\"Experimentales\")\n",
        "    for i in rango:\n",
        "      Mc  =  Metropolis([50,800],Pdf_landau,1000,130,130,i)\n",
        "      plt.hist(np.array(Mc), 50,density =True, alpha=0.5,label= r'con $c=$'+str(i))\n",
        "      plt.legend()\n",
        "plt.show() "
      ],
      "execution_count": null,
      "outputs": []
    }
  ]
}